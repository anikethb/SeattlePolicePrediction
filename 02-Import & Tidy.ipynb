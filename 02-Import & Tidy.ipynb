{
 "cells": [
  {
   "cell_type": "markdown",
   "metadata": {},
   "source": [
    "<!--NAVIGATION-->\n",
    "< [**Previous:** 01 - Introduction](01-Introduction.ipynb) | [**Next:** 03 - EDA](03-EDA.ipynb) >"
   ]
  },
  {
   "cell_type": "markdown",
   "metadata": {},
   "source": [
    "# Importing the Dataset"
   ]
  },
  {
   "cell_type": "markdown",
   "metadata": {},
   "source": [
    "The purpose of this notebook is to import, clean, and tidy the dataset so that it can be used for analysis and modeling."
   ]
  },
  {
   "cell_type": "code",
   "execution_count": 41,
   "metadata": {},
   "outputs": [],
   "source": [
    "import pandas as pd\n",
    "import numpy as np\n",
    "from matplotlib import pyplot as plt"
   ]
  },
  {
   "cell_type": "markdown",
   "metadata": {},
   "source": [
    "## Previewing the Dataset"
   ]
  },
  {
   "cell_type": "code",
   "execution_count": 42,
   "metadata": {},
   "outputs": [
    {
     "name": "stderr",
     "output_type": "stream",
     "text": [
      "/opt/conda/lib/python3.6/site-packages/IPython/core/interactiveshell.py:2728: DtypeWarning: Columns (0) have mixed types. Specify dtype option on import or set low_memory=False.\n",
      "  interactivity=interactivity, compiler=compiler, result=result)\n"
     ]
    },
    {
     "data": {
      "text/html": [
       "<div>\n",
       "<style scoped>\n",
       "    .dataframe tbody tr th:only-of-type {\n",
       "        vertical-align: middle;\n",
       "    }\n",
       "\n",
       "    .dataframe tbody tr th {\n",
       "        vertical-align: top;\n",
       "    }\n",
       "\n",
       "    .dataframe thead th {\n",
       "        text-align: right;\n",
       "    }\n",
       "</style>\n",
       "<table border=\"1\" class=\"dataframe\">\n",
       "  <thead>\n",
       "    <tr style=\"text-align: right;\">\n",
       "      <th></th>\n",
       "      <th>CAD CDW ID</th>\n",
       "      <th>CAD Event Number</th>\n",
       "      <th>General Offense Number</th>\n",
       "      <th>Event Clearance Code</th>\n",
       "      <th>Event Clearance Description</th>\n",
       "      <th>Event Clearance SubGroup</th>\n",
       "      <th>Event Clearance Group</th>\n",
       "      <th>Event Clearance Date</th>\n",
       "      <th>Hundred Block Location</th>\n",
       "      <th>District/Sector</th>\n",
       "      <th>Zone/Beat</th>\n",
       "      <th>Census Tract</th>\n",
       "      <th>Longitude</th>\n",
       "      <th>Latitude</th>\n",
       "      <th>Incident Location</th>\n",
       "      <th>Initial Type Description</th>\n",
       "      <th>Initial Type Subgroup</th>\n",
       "      <th>Initial Type Group</th>\n",
       "      <th>At Scene Time</th>\n",
       "    </tr>\n",
       "  </thead>\n",
       "  <tbody>\n",
       "    <tr>\n",
       "      <th>0</th>\n",
       "      <td>﻿15736</td>\n",
       "      <td>10000246357</td>\n",
       "      <td>2010246357</td>\n",
       "      <td>242.0</td>\n",
       "      <td>FIGHT DISTURBANCE</td>\n",
       "      <td>DISTURBANCES</td>\n",
       "      <td>DISTURBANCES</td>\n",
       "      <td>07/17/2010 08:49:00 PM</td>\n",
       "      <td>3XX BLOCK OF PINE ST</td>\n",
       "      <td>M</td>\n",
       "      <td>M2</td>\n",
       "      <td>8100.2001</td>\n",
       "      <td>-122.338147</td>\n",
       "      <td>47.610975</td>\n",
       "      <td>(47.610975163, -122.338146748)</td>\n",
       "      <td>NaN</td>\n",
       "      <td>NaN</td>\n",
       "      <td>NaN</td>\n",
       "      <td>NaN</td>\n",
       "    </tr>\n",
       "    <tr>\n",
       "      <th>1</th>\n",
       "      <td>15737</td>\n",
       "      <td>10000246471</td>\n",
       "      <td>2010246471</td>\n",
       "      <td>65.0</td>\n",
       "      <td>THEFT - MISCELLANEOUS</td>\n",
       "      <td>THEFT</td>\n",
       "      <td>OTHER PROPERTY</td>\n",
       "      <td>07/17/2010 08:50:00 PM</td>\n",
       "      <td>36XX BLOCK OF DISCOVERY PARK BLVD</td>\n",
       "      <td>Q</td>\n",
       "      <td>Q1</td>\n",
       "      <td>5700.1012</td>\n",
       "      <td>-122.404613</td>\n",
       "      <td>47.658325</td>\n",
       "      <td>(47.658324899, -122.404612874)</td>\n",
       "      <td>NaN</td>\n",
       "      <td>NaN</td>\n",
       "      <td>NaN</td>\n",
       "      <td>NaN</td>\n",
       "    </tr>\n",
       "    <tr>\n",
       "      <th>2</th>\n",
       "      <td>15738</td>\n",
       "      <td>10000246255</td>\n",
       "      <td>2010246255</td>\n",
       "      <td>250.0</td>\n",
       "      <td>MISCHIEF, NUISANCE COMPLAINTS</td>\n",
       "      <td>NUISANCE, MISCHIEF COMPLAINTS</td>\n",
       "      <td>NUISANCE, MISCHIEF</td>\n",
       "      <td>07/17/2010 08:55:00 PM</td>\n",
       "      <td>21XX BLOCK OF 3RD AVE</td>\n",
       "      <td>M</td>\n",
       "      <td>M2</td>\n",
       "      <td>7200.2025</td>\n",
       "      <td>-122.342843</td>\n",
       "      <td>47.613551</td>\n",
       "      <td>(47.613551471, -122.342843234)</td>\n",
       "      <td>NaN</td>\n",
       "      <td>NaN</td>\n",
       "      <td>NaN</td>\n",
       "      <td>NaN</td>\n",
       "    </tr>\n",
       "    <tr>\n",
       "      <th>3</th>\n",
       "      <td>15739</td>\n",
       "      <td>10000246473</td>\n",
       "      <td>2010246473</td>\n",
       "      <td>460.0</td>\n",
       "      <td>TRAFFIC (MOVING) VIOLATION</td>\n",
       "      <td>TRAFFIC RELATED CALLS</td>\n",
       "      <td>TRAFFIC RELATED CALLS</td>\n",
       "      <td>07/17/2010 09:00:00 PM</td>\n",
       "      <td>7XX BLOCK OF ROY ST</td>\n",
       "      <td>D</td>\n",
       "      <td>D1</td>\n",
       "      <td>7200.1002</td>\n",
       "      <td>-122.341847</td>\n",
       "      <td>47.625401</td>\n",
       "      <td>(47.625401388, -122.341846999)</td>\n",
       "      <td>NaN</td>\n",
       "      <td>NaN</td>\n",
       "      <td>NaN</td>\n",
       "      <td>NaN</td>\n",
       "    </tr>\n",
       "    <tr>\n",
       "      <th>4</th>\n",
       "      <td>15740</td>\n",
       "      <td>10000246330</td>\n",
       "      <td>2010246330</td>\n",
       "      <td>250.0</td>\n",
       "      <td>MISCHIEF, NUISANCE COMPLAINTS</td>\n",
       "      <td>NUISANCE, MISCHIEF COMPLAINTS</td>\n",
       "      <td>NUISANCE, MISCHIEF</td>\n",
       "      <td>07/17/2010 09:00:00 PM</td>\n",
       "      <td>9XX BLOCK OF ALOHA ST</td>\n",
       "      <td>D</td>\n",
       "      <td>D1</td>\n",
       "      <td>6700.1009</td>\n",
       "      <td>-122.339709</td>\n",
       "      <td>47.627425</td>\n",
       "      <td>(47.627424837, -122.339708605)</td>\n",
       "      <td>NaN</td>\n",
       "      <td>NaN</td>\n",
       "      <td>NaN</td>\n",
       "      <td>NaN</td>\n",
       "    </tr>\n",
       "  </tbody>\n",
       "</table>\n",
       "</div>"
      ],
      "text/plain": [
       "  CAD CDW ID  CAD Event Number  General Offense Number  Event Clearance Code  \\\n",
       "0     ﻿15736       10000246357              2010246357                 242.0   \n",
       "1      15737       10000246471              2010246471                  65.0   \n",
       "2      15738       10000246255              2010246255                 250.0   \n",
       "3      15739       10000246473              2010246473                 460.0   \n",
       "4      15740       10000246330              2010246330                 250.0   \n",
       "\n",
       "     Event Clearance Description       Event Clearance SubGroup  \\\n",
       "0              FIGHT DISTURBANCE                   DISTURBANCES   \n",
       "1          THEFT - MISCELLANEOUS                          THEFT   \n",
       "2  MISCHIEF, NUISANCE COMPLAINTS  NUISANCE, MISCHIEF COMPLAINTS   \n",
       "3     TRAFFIC (MOVING) VIOLATION          TRAFFIC RELATED CALLS   \n",
       "4  MISCHIEF, NUISANCE COMPLAINTS  NUISANCE, MISCHIEF COMPLAINTS   \n",
       "\n",
       "   Event Clearance Group    Event Clearance Date  \\\n",
       "0           DISTURBANCES  07/17/2010 08:49:00 PM   \n",
       "1         OTHER PROPERTY  07/17/2010 08:50:00 PM   \n",
       "2    NUISANCE, MISCHIEF   07/17/2010 08:55:00 PM   \n",
       "3  TRAFFIC RELATED CALLS  07/17/2010 09:00:00 PM   \n",
       "4    NUISANCE, MISCHIEF   07/17/2010 09:00:00 PM   \n",
       "\n",
       "              Hundred Block Location District/Sector Zone/Beat  Census Tract  \\\n",
       "0               3XX BLOCK OF PINE ST               M        M2     8100.2001   \n",
       "1  36XX BLOCK OF DISCOVERY PARK BLVD               Q        Q1     5700.1012   \n",
       "2              21XX BLOCK OF 3RD AVE               M        M2     7200.2025   \n",
       "3                7XX BLOCK OF ROY ST               D        D1     7200.1002   \n",
       "4              9XX BLOCK OF ALOHA ST               D        D1     6700.1009   \n",
       "\n",
       "    Longitude   Latitude               Incident Location  \\\n",
       "0 -122.338147  47.610975  (47.610975163, -122.338146748)   \n",
       "1 -122.404613  47.658325  (47.658324899, -122.404612874)   \n",
       "2 -122.342843  47.613551  (47.613551471, -122.342843234)   \n",
       "3 -122.341847  47.625401  (47.625401388, -122.341846999)   \n",
       "4 -122.339709  47.627425  (47.627424837, -122.339708605)   \n",
       "\n",
       "  Initial Type Description Initial Type Subgroup Initial Type Group  \\\n",
       "0                      NaN                   NaN                NaN   \n",
       "1                      NaN                   NaN                NaN   \n",
       "2                      NaN                   NaN                NaN   \n",
       "3                      NaN                   NaN                NaN   \n",
       "4                      NaN                   NaN                NaN   \n",
       "\n",
       "  At Scene Time  \n",
       "0           NaN  \n",
       "1           NaN  \n",
       "2           NaN  \n",
       "3           NaN  \n",
       "4           NaN  "
      ]
     },
     "execution_count": 42,
     "metadata": {},
     "output_type": "execute_result"
    }
   ],
   "source": [
    "dataset = pd.read_csv('/data/anikethb/Seattle_Police_Department_911_Incident_Response.csv')\n",
    "dataset.head()"
   ]
  },
  {
   "cell_type": "markdown",
   "metadata": {},
   "source": [
    "# Tidying"
   ]
  },
  {
   "cell_type": "markdown",
   "metadata": {},
   "source": [
    "## Tidy Data Characteristics"
   ]
  },
  {
   "cell_type": "markdown",
   "metadata": {},
   "source": [
    "Recall that Tidy Data has the following characteristics: \n",
    "\n",
    "* Each column should contain a single variable.\n",
    "* Each row should contain a single measurement or sample.\n",
    "* Each table should contain data about a single entity.\n",
    "* Relationships between entities should be expressed through multiple tables and key columns.\n",
    "* Each column should have a well defined and clear name.\n",
    "* The rows should have an appropriate index.\n",
    "* The `dtype` of each column should be appropriate for that variable.\n",
    "* Missing values and NaNs should be handled appropriately and consistently.\n",
    "* Duplicates values or rows should be removed or handled appropriately.\n",
    "* Categorical values should be normalized so that each logical category is represented by a single well defined value.\n",
    "* Strings should to wrangled into a consistent format (case, spaces, etc.).\n",
    "\n",
    "-from 'data301/Content/Tidy/CleanWrangle.ipynb'"
   ]
  },
  {
   "cell_type": "markdown",
   "metadata": {},
   "source": [
    "## Dropping Unnecessary Columns at First Glance"
   ]
  },
  {
   "cell_type": "code",
   "execution_count": 43,
   "metadata": {},
   "outputs": [
    {
     "data": {
      "text/html": [
       "<div>\n",
       "<style scoped>\n",
       "    .dataframe tbody tr th:only-of-type {\n",
       "        vertical-align: middle;\n",
       "    }\n",
       "\n",
       "    .dataframe tbody tr th {\n",
       "        vertical-align: top;\n",
       "    }\n",
       "\n",
       "    .dataframe thead th {\n",
       "        text-align: right;\n",
       "    }\n",
       "</style>\n",
       "<table border=\"1\" class=\"dataframe\">\n",
       "  <thead>\n",
       "    <tr style=\"text-align: right;\">\n",
       "      <th></th>\n",
       "      <th>Event Clearance Code</th>\n",
       "      <th>Event Clearance Description</th>\n",
       "      <th>Event Clearance SubGroup</th>\n",
       "      <th>District/Sector</th>\n",
       "      <th>Zone/Beat</th>\n",
       "      <th>Census Tract</th>\n",
       "      <th>Longitude</th>\n",
       "      <th>Latitude</th>\n",
       "    </tr>\n",
       "  </thead>\n",
       "  <tbody>\n",
       "    <tr>\n",
       "      <th>0</th>\n",
       "      <td>242.0</td>\n",
       "      <td>FIGHT DISTURBANCE</td>\n",
       "      <td>DISTURBANCES</td>\n",
       "      <td>M</td>\n",
       "      <td>M2</td>\n",
       "      <td>8100.2001</td>\n",
       "      <td>-122.338147</td>\n",
       "      <td>47.610975</td>\n",
       "    </tr>\n",
       "    <tr>\n",
       "      <th>1</th>\n",
       "      <td>65.0</td>\n",
       "      <td>THEFT - MISCELLANEOUS</td>\n",
       "      <td>THEFT</td>\n",
       "      <td>Q</td>\n",
       "      <td>Q1</td>\n",
       "      <td>5700.1012</td>\n",
       "      <td>-122.404613</td>\n",
       "      <td>47.658325</td>\n",
       "    </tr>\n",
       "    <tr>\n",
       "      <th>2</th>\n",
       "      <td>250.0</td>\n",
       "      <td>MISCHIEF, NUISANCE COMPLAINTS</td>\n",
       "      <td>NUISANCE, MISCHIEF COMPLAINTS</td>\n",
       "      <td>M</td>\n",
       "      <td>M2</td>\n",
       "      <td>7200.2025</td>\n",
       "      <td>-122.342843</td>\n",
       "      <td>47.613551</td>\n",
       "    </tr>\n",
       "    <tr>\n",
       "      <th>3</th>\n",
       "      <td>460.0</td>\n",
       "      <td>TRAFFIC (MOVING) VIOLATION</td>\n",
       "      <td>TRAFFIC RELATED CALLS</td>\n",
       "      <td>D</td>\n",
       "      <td>D1</td>\n",
       "      <td>7200.1002</td>\n",
       "      <td>-122.341847</td>\n",
       "      <td>47.625401</td>\n",
       "    </tr>\n",
       "    <tr>\n",
       "      <th>4</th>\n",
       "      <td>250.0</td>\n",
       "      <td>MISCHIEF, NUISANCE COMPLAINTS</td>\n",
       "      <td>NUISANCE, MISCHIEF COMPLAINTS</td>\n",
       "      <td>D</td>\n",
       "      <td>D1</td>\n",
       "      <td>6700.1009</td>\n",
       "      <td>-122.339709</td>\n",
       "      <td>47.627425</td>\n",
       "    </tr>\n",
       "  </tbody>\n",
       "</table>\n",
       "</div>"
      ],
      "text/plain": [
       "   Event Clearance Code    Event Clearance Description  \\\n",
       "0                 242.0              FIGHT DISTURBANCE   \n",
       "1                  65.0          THEFT - MISCELLANEOUS   \n",
       "2                 250.0  MISCHIEF, NUISANCE COMPLAINTS   \n",
       "3                 460.0     TRAFFIC (MOVING) VIOLATION   \n",
       "4                 250.0  MISCHIEF, NUISANCE COMPLAINTS   \n",
       "\n",
       "        Event Clearance SubGroup District/Sector Zone/Beat  Census Tract  \\\n",
       "0                   DISTURBANCES               M        M2     8100.2001   \n",
       "1                          THEFT               Q        Q1     5700.1012   \n",
       "2  NUISANCE, MISCHIEF COMPLAINTS               M        M2     7200.2025   \n",
       "3          TRAFFIC RELATED CALLS               D        D1     7200.1002   \n",
       "4  NUISANCE, MISCHIEF COMPLAINTS               D        D1     6700.1009   \n",
       "\n",
       "    Longitude   Latitude  \n",
       "0 -122.338147  47.610975  \n",
       "1 -122.404613  47.658325  \n",
       "2 -122.342843  47.613551  \n",
       "3 -122.341847  47.625401  \n",
       "4 -122.339709  47.627425  "
      ]
     },
     "execution_count": 43,
     "metadata": {},
     "output_type": "execute_result"
    }
   ],
   "source": [
    "dataset.drop(columns=['CAD Event Number', 'CAD CDW ID', 'General Offense Number', 'Hundred Block Location','Event Clearance Date','Initial Type Subgroup', 'Initial Type Group', 'At Scene Time', 'Initial Type Description', 'Event Clearance Group', 'Incident Location'], inplace=True)\n",
    "dataset.head()"
   ]
  },
  {
   "cell_type": "markdown",
   "metadata": {},
   "source": [
    "I dropped the last 4 columns, as all their rows have missing values, and I wasn't going to use them for my analysis anyways. In addition, the majority of their values are NaN, so performing analysis using those columns wouldn't be logical. The Event Clearance Date column was dropped, as it's only telling us when the incident got cleared to be reported to the public dataset, which is all on one date (7/17/2010). Along with that, the column \"Hundred Block Location\" is dropped, as I'm only using Latitude/Longitude for location. The column \"Incident Location\" is dropped due to the fact that it is redudant data. There are already columns that describe the longitude and latitude of the location of the crime. Lastly, I dropped the \"Event Clearance Group\" column due to the fact that it has pretty much the same data as the \"Event Clearance SubGroup\" column, and dropped the \"CAD CDW ID\" and \"General Offense Number\" columns because they aren't relevant to what I want to analyze. "
   ]
  },
  {
   "cell_type": "markdown",
   "metadata": {},
   "source": [
    "# Handling Missing Values"
   ]
  },
  {
   "cell_type": "markdown",
   "metadata": {},
   "source": [
    "We need to now check to see if there is any missing data in any of the columns. Data Analysis cannot be performed accurately when there are NaN values."
   ]
  },
  {
   "cell_type": "code",
   "execution_count": 44,
   "metadata": {},
   "outputs": [
    {
     "data": {
      "text/html": [
       "<div>\n",
       "<style scoped>\n",
       "    .dataframe tbody tr th:only-of-type {\n",
       "        vertical-align: middle;\n",
       "    }\n",
       "\n",
       "    .dataframe tbody tr th {\n",
       "        vertical-align: top;\n",
       "    }\n",
       "\n",
       "    .dataframe thead th {\n",
       "        text-align: right;\n",
       "    }\n",
       "</style>\n",
       "<table border=\"1\" class=\"dataframe\">\n",
       "  <thead>\n",
       "    <tr style=\"text-align: right;\">\n",
       "      <th></th>\n",
       "      <th>Event Clearance Code</th>\n",
       "      <th>Event Clearance Description</th>\n",
       "      <th>Event Clearance SubGroup</th>\n",
       "      <th>District/Sector</th>\n",
       "      <th>Zone/Beat</th>\n",
       "      <th>Census Tract</th>\n",
       "      <th>Longitude</th>\n",
       "      <th>Latitude</th>\n",
       "    </tr>\n",
       "  </thead>\n",
       "  <tbody>\n",
       "    <tr>\n",
       "      <th>0</th>\n",
       "      <td>242.0</td>\n",
       "      <td>FIGHT DISTURBANCE</td>\n",
       "      <td>DISTURBANCES</td>\n",
       "      <td>M</td>\n",
       "      <td>M2</td>\n",
       "      <td>8100.2001</td>\n",
       "      <td>-122.338147</td>\n",
       "      <td>47.610975</td>\n",
       "    </tr>\n",
       "    <tr>\n",
       "      <th>1</th>\n",
       "      <td>65.0</td>\n",
       "      <td>THEFT - MISCELLANEOUS</td>\n",
       "      <td>THEFT</td>\n",
       "      <td>Q</td>\n",
       "      <td>Q1</td>\n",
       "      <td>5700.1012</td>\n",
       "      <td>-122.404613</td>\n",
       "      <td>47.658325</td>\n",
       "    </tr>\n",
       "    <tr>\n",
       "      <th>2</th>\n",
       "      <td>250.0</td>\n",
       "      <td>MISCHIEF, NUISANCE COMPLAINTS</td>\n",
       "      <td>NUISANCE, MISCHIEF COMPLAINTS</td>\n",
       "      <td>M</td>\n",
       "      <td>M2</td>\n",
       "      <td>7200.2025</td>\n",
       "      <td>-122.342843</td>\n",
       "      <td>47.613551</td>\n",
       "    </tr>\n",
       "    <tr>\n",
       "      <th>3</th>\n",
       "      <td>460.0</td>\n",
       "      <td>TRAFFIC (MOVING) VIOLATION</td>\n",
       "      <td>TRAFFIC RELATED CALLS</td>\n",
       "      <td>D</td>\n",
       "      <td>D1</td>\n",
       "      <td>7200.1002</td>\n",
       "      <td>-122.341847</td>\n",
       "      <td>47.625401</td>\n",
       "    </tr>\n",
       "    <tr>\n",
       "      <th>4</th>\n",
       "      <td>250.0</td>\n",
       "      <td>MISCHIEF, NUISANCE COMPLAINTS</td>\n",
       "      <td>NUISANCE, MISCHIEF COMPLAINTS</td>\n",
       "      <td>D</td>\n",
       "      <td>D1</td>\n",
       "      <td>6700.1009</td>\n",
       "      <td>-122.339709</td>\n",
       "      <td>47.627425</td>\n",
       "    </tr>\n",
       "  </tbody>\n",
       "</table>\n",
       "</div>"
      ],
      "text/plain": [
       "   Event Clearance Code    Event Clearance Description  \\\n",
       "0                 242.0              FIGHT DISTURBANCE   \n",
       "1                  65.0          THEFT - MISCELLANEOUS   \n",
       "2                 250.0  MISCHIEF, NUISANCE COMPLAINTS   \n",
       "3                 460.0     TRAFFIC (MOVING) VIOLATION   \n",
       "4                 250.0  MISCHIEF, NUISANCE COMPLAINTS   \n",
       "\n",
       "        Event Clearance SubGroup District/Sector Zone/Beat  Census Tract  \\\n",
       "0                   DISTURBANCES               M        M2     8100.2001   \n",
       "1                          THEFT               Q        Q1     5700.1012   \n",
       "2  NUISANCE, MISCHIEF COMPLAINTS               M        M2     7200.2025   \n",
       "3          TRAFFIC RELATED CALLS               D        D1     7200.1002   \n",
       "4  NUISANCE, MISCHIEF COMPLAINTS               D        D1     6700.1009   \n",
       "\n",
       "    Longitude   Latitude  \n",
       "0 -122.338147  47.610975  \n",
       "1 -122.404613  47.658325  \n",
       "2 -122.342843  47.613551  \n",
       "3 -122.341847  47.625401  \n",
       "4 -122.339709  47.627425  "
      ]
     },
     "execution_count": 44,
     "metadata": {},
     "output_type": "execute_result"
    }
   ],
   "source": [
    "dataset.head()"
   ]
  },
  {
   "cell_type": "markdown",
   "metadata": {},
   "source": [
    "###  Handling Columns With Missing Data"
   ]
  },
  {
   "cell_type": "code",
   "execution_count": 45,
   "metadata": {},
   "outputs": [],
   "source": [
    "def show_nancols(df):\n",
    "    '''Returns a boolean series of columns that have atleast one NaN value'''\n",
    "    cols_nan = df.isnull().any()\n",
    "    cols_nan = cols_nan[cols_nan==True]\n",
    "    return cols_nan"
   ]
  },
  {
   "cell_type": "code",
   "execution_count": 46,
   "metadata": {},
   "outputs": [],
   "source": [
    "#Testing my show_nancols function\n",
    "data_withNans = {\n",
    "    'first_col' : [None, 3],\n",
    "    'second_col' : [3, 4]\n",
    "}\n",
    "\n",
    "data_withoutNans = {\n",
    "    'first_col' : [3, 4, 6],\n",
    "    'second_col' : [None, 2, 3]\n",
    "}\n",
    "\n",
    "df_withNans = pd.DataFrame(data_withNans)\n",
    "df_withoutNans = pd.DataFrame(data_withoutNans)\n",
    "\n",
    "assert show_nancols(df_withNans).index == ['first_col']\n",
    "assert show_nancols(df_withoutNans).index == ['second_col']"
   ]
  },
  {
   "cell_type": "markdown",
   "metadata": {},
   "source": [
    "I am creating a function that returns a boolean series of all the columns in the dataset that have NaN value(s), as I will need to do this multiple times throughout this notebook. Creating a function will make it so that I won't have to reuse the same code over and over again. "
   ]
  },
  {
   "cell_type": "code",
   "execution_count": 47,
   "metadata": {},
   "outputs": [
    {
     "name": "stdout",
     "output_type": "stream",
     "text": [
      "Event Clearance Code           True\n",
      "Event Clearance Description    True\n",
      "Event Clearance SubGroup       True\n",
      "District/Sector                True\n",
      "Zone/Beat                      True\n",
      "Census Tract                   True\n",
      "Longitude                      True\n",
      "Latitude                       True\n",
      "dtype: bool\n"
     ]
    }
   ],
   "source": [
    "print(show_nancols(dataset))"
   ]
  },
  {
   "cell_type": "markdown",
   "metadata": {},
   "source": [
    "All these columns have atleast 1 NaN value, so they must be dealt with accordingly."
   ]
  },
  {
   "cell_type": "code",
   "execution_count": 48,
   "metadata": {},
   "outputs": [],
   "source": [
    "dataset.dropna(subset=['Event Clearance Description'], inplace=True)\n",
    "\n",
    "#Test to make sure there aren't any NaN values in the column\n",
    "assert dataset['Event Clearance Description'].isnull().values.any() == False"
   ]
  },
  {
   "cell_type": "code",
   "execution_count": 49,
   "metadata": {},
   "outputs": [
    {
     "name": "stdout",
     "output_type": "stream",
     "text": [
      "District/Sector    True\n",
      "Census Tract       True\n",
      "dtype: bool\n"
     ]
    }
   ],
   "source": [
    "print(show_nancols(dataset))"
   ]
  },
  {
   "cell_type": "markdown",
   "metadata": {},
   "source": [
    "Dropping rows that are missing the description of the crime is necessary, as without the description of the crime, I can't do any crime analysis on them. As seen by the output above, there are now only 3 columns that contain missing values."
   ]
  },
  {
   "cell_type": "code",
   "execution_count": 50,
   "metadata": {},
   "outputs": [],
   "source": [
    "dataset['District/Sector'].fillna(dataset['Zone/Beat'].str[0], inplace=True)\n",
    "\n",
    "#Test to make sure there aren't any NaN values in the column\n",
    "assert dataset['District/Sector'].isnull().values.any() == False"
   ]
  },
  {
   "cell_type": "code",
   "execution_count": 51,
   "metadata": {},
   "outputs": [
    {
     "name": "stdout",
     "output_type": "stream",
     "text": [
      "Census Tract    True\n",
      "dtype: bool\n"
     ]
    }
   ],
   "source": [
    "print(show_nancols(dataset))"
   ]
  },
  {
   "cell_type": "markdown",
   "metadata": {},
   "source": [
    "Here, we are filling the rows with missing 'District/Sector' data with the first letter of the corresponding 'Zone/Beat' data in that row. This is due to the fact that the first letter of 'Zone/Beat' of an incident is the correct value of 'District/Sector', as Zone is simply a more specified area that comes under a certain district. The only other exception to that rule is for the Zone/Beat value of 99, which comes under the District/Sector 99 as well. However, there aren't any missing values for those rows, so we don't need to worry about that edge case. As seen by the output above now, the only column with missing values is now Census Tract."
   ]
  },
  {
   "cell_type": "code",
   "execution_count": 52,
   "metadata": {},
   "outputs": [],
   "source": [
    "dataset['Census Tract'].fillna('unknown', inplace=True)\n",
    "\n",
    "#Test to make sure there aren't any NaN values in the column\n",
    "assert dataset['Census Tract'].isnull().values.any() == False"
   ]
  },
  {
   "cell_type": "markdown",
   "metadata": {},
   "source": [
    "For the missing values of Census Tract, there isn't a more logical way to fill them than to fill them with the value 'unknown'. Filling it with a random number or by a mean of the other Census Tracts donesn't make sense, since Census Tract represents a code for a region, and it isn't a value that measures something.   "
   ]
  },
  {
   "cell_type": "code",
   "execution_count": 53,
   "metadata": {},
   "outputs": [
    {
     "name": "stdout",
     "output_type": "stream",
     "text": [
      "Series([], dtype: bool)\n"
     ]
    }
   ],
   "source": [
    "print(show_nancols(dataset))"
   ]
  },
  {
   "cell_type": "markdown",
   "metadata": {},
   "source": [
    "By the output above, we can now see that there aren't any more missing values in any columns."
   ]
  },
  {
   "cell_type": "markdown",
   "metadata": {},
   "source": [
    "## Other Filtering"
   ]
  },
  {
   "cell_type": "code",
   "execution_count": 54,
   "metadata": {},
   "outputs": [
    {
     "data": {
      "text/plain": [
       "Event Clearance SubGroup\n",
       "ANIMAL COMPLAINTS                   3937\n",
       "ASSAULTS                           24088\n",
       "AUTO RECOVERIES                     8397\n",
       "AUTO THEFTS                        22162\n",
       "BURGLARY ALACAD (FALSE)            19785\n",
       "BURGLARY ALARMS (FALSE)            34359\n",
       "CAR PROWL                          49653\n",
       "CASUALTIES                          9831\n",
       "COMMERCIAL BURGLARIES              10104\n",
       "CRISIS CALL                        11647\n",
       "DISTURBANCES                      188373\n",
       "FRAUD CALLS                        17652\n",
       "GUN CALLS                           6412\n",
       "HARBOR CALLS                        1156\n",
       "HAZARDS                            18355\n",
       "HOMICIDE                             229\n",
       "LIQUOR VIOLATIONS                  80663\n",
       "MENTAL CALL                        18642\n",
       "MISCELLANEOUS MISDEMEANORS          4617\n",
       "NARCOTICS COMPLAINTS               28404\n",
       "NOISE DISTURBANCE                   8493\n",
       "NUISANCE, MISCHIEF COMPLAINTS      40864\n",
       "PANIC ALACAD (FALSE)                2093\n",
       "PANIC ALARMS (FALSE)                4049\n",
       "PARKING VIOLATIONS                110183\n",
       "PARKS EXCLUSIONS                    5019\n",
       "PERSONS - LOST, FOUND, MISSING      6771\n",
       "PROPERTY - MISSING, FOUND          16105\n",
       "PROPERTY DAMAGE                    24215\n",
       "PROWLER                             2051\n",
       "PUBLIC GATHERINGS                    344\n",
       "RECKLESS BURNING                     285\n",
       "RESIDENTIAL BURGLARIES             31057\n",
       "ROBBERY                             5429\n",
       "SEX OFFENSE (NO RAPE)                390\n",
       "SUSPICIOUS CIRCUMSTANCES          218507\n",
       "THEFT                              82928\n",
       "THREATS, HARASSMENT                15225\n",
       "TRAFFIC RELATED CALLS             223316\n",
       "TRESPASS                           42925\n",
       "VEHICLE ALACAD (FALSE)               306\n",
       "VEHICLE ALARMS (FALSE)               935\n",
       "VICE CALLS                          3986\n",
       "WARRANT CALLS                      17094\n",
       "WEAPONS CALLS                       1398\n",
       "Name: Event Clearance SubGroup, dtype: int64"
      ]
     },
     "execution_count": 54,
     "metadata": {},
     "output_type": "execute_result"
    }
   ],
   "source": [
    "incidents_count = dataset.groupby('Event Clearance SubGroup')['Event Clearance SubGroup'].count()\n",
    "incidents_count"
   ]
  },
  {
   "cell_type": "markdown",
   "metadata": {},
   "source": [
    "When viewing all the categories of the incidents reported in this dataset, it can be observed that quite a few reports were found to be false. These are encoded by '(FALSE)' after the description of the category, as seen by the output above. It is necessary to filter these out, since we don't want to perform analysis on 911 calls that ended up being false alarms.  "
   ]
  },
  {
   "cell_type": "code",
   "execution_count": 55,
   "metadata": {},
   "outputs": [
    {
     "name": "stderr",
     "output_type": "stream",
     "text": [
      "/opt/conda/lib/python3.6/site-packages/ipykernel_launcher.py:1: UserWarning: This pattern has match groups. To actually get the groups, use str.extract.\n",
      "  \"\"\"Entry point for launching an IPython kernel.\n"
     ]
    }
   ],
   "source": [
    "dataset = dataset[dataset['Event Clearance SubGroup'].str.contains(\"(FALSE)\") == False]"
   ]
  },
  {
   "cell_type": "code",
   "execution_count": 56,
   "metadata": {},
   "outputs": [
    {
     "name": "stderr",
     "output_type": "stream",
     "text": [
      "/opt/conda/lib/python3.6/site-packages/ipykernel_launcher.py:2: UserWarning: This pattern has match groups. To actually get the groups, use str.extract.\n",
      "  \n"
     ]
    }
   ],
   "source": [
    "#Checking if the filter worked(Makes sure that there aren't any rows that contain a \"false alarm\" 911 call)\n",
    "check_df = dataset[dataset['Event Clearance SubGroup'].str.contains(\"(FALSE)\") == True]\n",
    "\n",
    "assert check_df.empty == True"
   ]
  },
  {
   "cell_type": "markdown",
   "metadata": {},
   "source": [
    "The code above filters out rows that contain a false alarm in the 'Event Clearance SubGroup' column. "
   ]
  },
  {
   "cell_type": "code",
   "execution_count": 57,
   "metadata": {},
   "outputs": [
    {
     "data": {
      "text/plain": [
       "Event Clearance SubGroup\n",
       "ANIMAL COMPLAINTS                   3937\n",
       "ASSAULTS                           24088\n",
       "AUTO RECOVERIES                     8397\n",
       "AUTO THEFTS                        22162\n",
       "CAR PROWL                          49653\n",
       "CASUALTIES                          9831\n",
       "COMMERCIAL BURGLARIES              10104\n",
       "CRISIS CALL                        11647\n",
       "DISTURBANCES                      188373\n",
       "FRAUD CALLS                        17652\n",
       "GUN CALLS                           6412\n",
       "HARBOR CALLS                        1156\n",
       "HAZARDS                            18355\n",
       "HOMICIDE                             229\n",
       "LIQUOR VIOLATIONS                  80663\n",
       "MENTAL CALL                        18642\n",
       "MISCELLANEOUS MISDEMEANORS          4617\n",
       "NARCOTICS COMPLAINTS               28404\n",
       "NOISE DISTURBANCE                   8493\n",
       "NUISANCE, MISCHIEF COMPLAINTS      40864\n",
       "PARKING VIOLATIONS                110183\n",
       "PARKS EXCLUSIONS                    5019\n",
       "PERSONS - LOST, FOUND, MISSING      6771\n",
       "PROPERTY - MISSING, FOUND          16105\n",
       "PROPERTY DAMAGE                    24215\n",
       "PROWLER                             2051\n",
       "PUBLIC GATHERINGS                    344\n",
       "RECKLESS BURNING                     285\n",
       "RESIDENTIAL BURGLARIES             31057\n",
       "ROBBERY                             5429\n",
       "SEX OFFENSE (NO RAPE)                390\n",
       "SUSPICIOUS CIRCUMSTANCES          218507\n",
       "THEFT                              82928\n",
       "THREATS, HARASSMENT                15225\n",
       "TRAFFIC RELATED CALLS             223316\n",
       "TRESPASS                           42925\n",
       "VICE CALLS                          3986\n",
       "WARRANT CALLS                      17094\n",
       "WEAPONS CALLS                       1398\n",
       "Name: Event Clearance SubGroup, dtype: int64"
      ]
     },
     "execution_count": 57,
     "metadata": {},
     "output_type": "execute_result"
    }
   ],
   "source": [
    "incidents_count = dataset.groupby('Event Clearance SubGroup')['Event Clearance SubGroup'].count()\n",
    "incidents_count"
   ]
  },
  {
   "cell_type": "markdown",
   "metadata": {},
   "source": [
    "From this output, we can now see that the dataset no longer contains false alarm 911 calls."
   ]
  },
  {
   "cell_type": "code",
   "execution_count": 58,
   "metadata": {},
   "outputs": [],
   "source": [
    "#Testing to make sure the data types for the columns are what we expect them to be\n",
    "assert dataset['Event Clearance Code'].dtype == 'float64'\n",
    "assert dataset['Event Clearance Description'].dtype == 'object'\n",
    "assert dataset['Event Clearance SubGroup'].dtype == 'object'\n",
    "assert dataset['District/Sector'].dtype == 'object'\n",
    "assert dataset['Zone/Beat'].dtype == 'object'\n",
    "assert dataset['Census Tract'].dtype == 'object'\n",
    "assert dataset['Longitude'].dtype == 'float64'\n",
    "assert dataset['Latitude'].dtype == 'float64'"
   ]
  },
  {
   "cell_type": "code",
   "execution_count": 59,
   "metadata": {},
   "outputs": [],
   "source": [
    "#Testing to make sure there are the exact number of columns that we expect there to be, which is 8 columns.\n",
    "assert len(dataset.columns) == 8"
   ]
  },
  {
   "cell_type": "markdown",
   "metadata": {},
   "source": [
    "# Export"
   ]
  },
  {
   "cell_type": "code",
   "execution_count": 60,
   "metadata": {},
   "outputs": [],
   "source": [
    "# Takes around 20 seconds to run\n",
    "dataset.to_csv('/data/anikethb/tidy_dataset.csv', sep = ',', index=False)"
   ]
  },
  {
   "cell_type": "markdown",
   "metadata": {},
   "source": [
    "We need to export the current dataset into a new file so that it can be imported from the next notebook(EDA)."
   ]
  },
  {
   "cell_type": "markdown",
   "metadata": {},
   "source": [
    "<!--NAVIGATION-->\n",
    "< [**Previous:** 01 - Introduction](01-Introduction.ipynb) | [**Next:** 03 - EDA](03-EDA.ipynb) >"
   ]
  }
 ],
 "metadata": {
  "kernelspec": {
   "display_name": "Python 3",
   "language": "python",
   "name": "python3"
  },
  "language_info": {
   "codemirror_mode": {
    "name": "ipython",
    "version": 3
   },
   "file_extension": ".py",
   "mimetype": "text/x-python",
   "name": "python",
   "nbconvert_exporter": "python",
   "pygments_lexer": "ipython3",
   "version": "3.6.3"
  }
 },
 "nbformat": 4,
 "nbformat_minor": 2
}
