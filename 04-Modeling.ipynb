{
 "cells": [
  {
   "cell_type": "markdown",
   "metadata": {},
   "source": [
    "<!--NAVIGATION-->\n",
    "< [**Previous:** 03 - EDA](03-EDA.ipynb) | [**Next:** 05 - Presentation](05-Presentation.ipynb) >   "
   ]
  },
  {
   "cell_type": "markdown",
   "metadata": {},
   "source": [
    "# Modeling "
   ]
  },
  {
   "cell_type": "markdown",
   "metadata": {},
   "source": [
    "The purpose of this notebook is to use a Neural Network model and a Random Forest Classifier Model, and compare the accuracies of both at predicting the types of crimes."
   ]
  },
  {
   "cell_type": "code",
   "execution_count": 48,
   "metadata": {},
   "outputs": [],
   "source": [
    "import numpy as np\n",
    "import pandas as pd\n",
    "import seaborn as sn\n",
    "from scipy import optimize as opt\n",
    "from sklearn.feature_extraction import DictVectorizer\n",
    "from sklearn.preprocessing import LabelEncoder, OneHotEncoder, normalize\n",
    "from sklearn.neural_network import MLPClassifier\n",
    "from sklearn.model_selection import train_test_split\n",
    "from sklearn.metrics import accuracy_score\n",
    "%matplotlib inline\n",
    "import matplotlib.pyplot as plt"
   ]
  },
  {
   "cell_type": "code",
   "execution_count": 49,
   "metadata": {},
   "outputs": [],
   "source": [
    "dataset = pd.read_csv('/data/anikethb/EDA_dataset.csv')"
   ]
  },
  {
   "cell_type": "code",
   "execution_count": 50,
   "metadata": {},
   "outputs": [
    {
     "data": {
      "text/html": [
       "<div>\n",
       "<style scoped>\n",
       "    .dataframe tbody tr th:only-of-type {\n",
       "        vertical-align: middle;\n",
       "    }\n",
       "\n",
       "    .dataframe tbody tr th {\n",
       "        vertical-align: top;\n",
       "    }\n",
       "\n",
       "    .dataframe thead th {\n",
       "        text-align: right;\n",
       "    }\n",
       "</style>\n",
       "<table border=\"1\" class=\"dataframe\">\n",
       "  <thead>\n",
       "    <tr style=\"text-align: right;\">\n",
       "      <th></th>\n",
       "      <th>Event Clearance SubGroup</th>\n",
       "      <th>District/Sector</th>\n",
       "      <th>Zone/Beat</th>\n",
       "      <th>Longitude</th>\n",
       "      <th>Latitude</th>\n",
       "      <th>Distance From Center</th>\n",
       "    </tr>\n",
       "  </thead>\n",
       "  <tbody>\n",
       "    <tr>\n",
       "      <th>0</th>\n",
       "      <td>DISTURBANCES</td>\n",
       "      <td>M</td>\n",
       "      <td>M2</td>\n",
       "      <td>-122.338147</td>\n",
       "      <td>47.610975</td>\n",
       "      <td>1.019422</td>\n",
       "    </tr>\n",
       "    <tr>\n",
       "      <th>1</th>\n",
       "      <td>THEFT</td>\n",
       "      <td>Q</td>\n",
       "      <td>Q1</td>\n",
       "      <td>-122.404613</td>\n",
       "      <td>47.658325</td>\n",
       "      <td>3.483148</td>\n",
       "    </tr>\n",
       "    <tr>\n",
       "      <th>2</th>\n",
       "      <td>NUISANCE, MISCHIEF COMPLAINTS</td>\n",
       "      <td>M</td>\n",
       "      <td>M2</td>\n",
       "      <td>-122.342843</td>\n",
       "      <td>47.613551</td>\n",
       "      <td>0.744654</td>\n",
       "    </tr>\n",
       "    <tr>\n",
       "      <th>3</th>\n",
       "      <td>TRAFFIC RELATED CALLS</td>\n",
       "      <td>D</td>\n",
       "      <td>D1</td>\n",
       "      <td>-122.341847</td>\n",
       "      <td>47.625401</td>\n",
       "      <td>0.527233</td>\n",
       "    </tr>\n",
       "    <tr>\n",
       "      <th>4</th>\n",
       "      <td>NUISANCE, MISCHIEF COMPLAINTS</td>\n",
       "      <td>D</td>\n",
       "      <td>D1</td>\n",
       "      <td>-122.339709</td>\n",
       "      <td>47.627425</td>\n",
       "      <td>0.680518</td>\n",
       "    </tr>\n",
       "  </tbody>\n",
       "</table>\n",
       "</div>"
      ],
      "text/plain": [
       "        Event Clearance SubGroup District/Sector Zone/Beat   Longitude  \\\n",
       "0                   DISTURBANCES               M        M2 -122.338147   \n",
       "1                          THEFT               Q        Q1 -122.404613   \n",
       "2  NUISANCE, MISCHIEF COMPLAINTS               M        M2 -122.342843   \n",
       "3          TRAFFIC RELATED CALLS               D        D1 -122.341847   \n",
       "4  NUISANCE, MISCHIEF COMPLAINTS               D        D1 -122.339709   \n",
       "\n",
       "    Latitude  Distance From Center  \n",
       "0  47.610975              1.019422  \n",
       "1  47.658325              3.483148  \n",
       "2  47.613551              0.744654  \n",
       "3  47.625401              0.527233  \n",
       "4  47.627425              0.680518  "
      ]
     },
     "execution_count": 50,
     "metadata": {},
     "output_type": "execute_result"
    }
   ],
   "source": [
    "dataset.head()"
   ]
  },
  {
   "cell_type": "markdown",
   "metadata": {},
   "source": [
    "## Categorical Variables"
   ]
  },
  {
   "cell_type": "markdown",
   "metadata": {},
   "source": [
    "The column I am predicting contains categorical data, not numerical data, so I have to use Feature Engineering. I am going to need to use one-hot encoding, which will create extra columns that indicate the presence or absence of certain values in 2 of the categorical columns that I will be using(District/Sector, Zone/Beat). For the predictor column, \"Event Clearance SubGroup\", I will be using LabelEncoding only, which will assign a separate integer value for each unique value in the column. They will be 0-38, as there are 39 unique incidents."
   ]
  },
  {
   "cell_type": "markdown",
   "metadata": {},
   "source": [
    "### One-Hot Encoding"
   ]
  },
  {
   "cell_type": "code",
   "execution_count": 51,
   "metadata": {},
   "outputs": [],
   "source": [
    "str_cols = dataset[['District/Sector', 'Zone/Beat']]\n",
    "le = LabelEncoder()\n",
    "target = dataset[['Event Clearance SubGroup']]\n",
    "str_cols_2 = str_cols.apply(le.fit_transform)\n",
    "target_2 = target.apply(le.fit_transform)\n",
    "\n",
    "enc = OneHotEncoder()\n",
    "enc.fit(str_cols_2)\n",
    "onehotlabels = enc.transform(str_cols_2).toarray()"
   ]
  },
  {
   "cell_type": "code",
   "execution_count": 52,
   "metadata": {},
   "outputs": [],
   "source": [
    "cols_encoded = ['Event Clearance SubGroup', 'District/Sector', 'Zone/Beat']\n",
    "test = pd.DataFrame(onehotlabels)\n",
    "target_df = pd.DataFrame(target_2)\n",
    "\n",
    "new_test = pd.concat([dataset.drop(cols_encoded, 1), target_df, test], axis=1).reindex()"
   ]
  },
  {
   "cell_type": "markdown",
   "metadata": {},
   "source": [
    "# Neural Network Model vs Random Forest Classifier"
   ]
  },
  {
   "cell_type": "markdown",
   "metadata": {},
   "source": [
    "I will only feed rows that contain one of the top 7 most occurring types of incidents into the models due to the fact that it will take too long to run otherwise, as my dataset has 1.3 million rows.  "
   ]
  },
  {
   "cell_type": "code",
   "execution_count": 53,
   "metadata": {},
   "outputs": [
    {
     "name": "stdout",
     "output_type": "stream",
     "text": [
      "Number of Unique Incidents: 39\n"
     ]
    },
    {
     "data": {
      "text/html": [
       "<div>\n",
       "<style scoped>\n",
       "    .dataframe tbody tr th:only-of-type {\n",
       "        vertical-align: middle;\n",
       "    }\n",
       "\n",
       "    .dataframe tbody tr th {\n",
       "        vertical-align: top;\n",
       "    }\n",
       "\n",
       "    .dataframe thead th {\n",
       "        text-align: right;\n",
       "    }\n",
       "</style>\n",
       "<table border=\"1\" class=\"dataframe\">\n",
       "  <thead>\n",
       "    <tr style=\"text-align: right;\">\n",
       "      <th></th>\n",
       "      <th>Event Clearance SubGroup</th>\n",
       "      <th>Distance From Center</th>\n",
       "    </tr>\n",
       "  </thead>\n",
       "  <tbody>\n",
       "    <tr>\n",
       "      <th>34</th>\n",
       "      <td>34</td>\n",
       "      <td>223316</td>\n",
       "    </tr>\n",
       "    <tr>\n",
       "      <th>31</th>\n",
       "      <td>31</td>\n",
       "      <td>218507</td>\n",
       "    </tr>\n",
       "    <tr>\n",
       "      <th>8</th>\n",
       "      <td>8</td>\n",
       "      <td>188373</td>\n",
       "    </tr>\n",
       "    <tr>\n",
       "      <th>20</th>\n",
       "      <td>20</td>\n",
       "      <td>110183</td>\n",
       "    </tr>\n",
       "    <tr>\n",
       "      <th>32</th>\n",
       "      <td>32</td>\n",
       "      <td>82928</td>\n",
       "    </tr>\n",
       "  </tbody>\n",
       "</table>\n",
       "</div>"
      ],
      "text/plain": [
       "    Event Clearance SubGroup  Distance From Center\n",
       "34                        34                223316\n",
       "31                        31                218507\n",
       "8                          8                188373\n",
       "20                        20                110183\n",
       "32                        32                 82928"
      ]
     },
     "execution_count": 53,
     "metadata": {},
     "output_type": "execute_result"
    }
   ],
   "source": [
    "#Finding the incidents that occur the most in the dataset\n",
    "most = new_test.groupby('Event Clearance SubGroup', as_index=False)['Distance From Center'].count()\n",
    "most.sort_values(['Distance From Center'], ascending=False, inplace=True)\n",
    "print(\"Number of Unique Incidents: \" + str(len(most)))\n",
    "most.head()"
   ]
  },
  {
   "cell_type": "markdown",
   "metadata": {},
   "source": [
    "### Train/Test Split"
   ]
  },
  {
   "cell_type": "markdown",
   "metadata": {},
   "source": [
    "Using the sorted groupby above, we can find the the most occurring types of incidents and filter the test dataframe according to them."
   ]
  },
  {
   "cell_type": "code",
   "execution_count": 54,
   "metadata": {},
   "outputs": [],
   "source": [
    "new_test = new_test[(new_test['Event Clearance SubGroup'] == 34) | (new_test['Event Clearance SubGroup'] == 31) |\n",
    "                   (new_test['Event Clearance SubGroup'] == 8) | (new_test['Event Clearance SubGroup'] == 20) | \n",
    "                    (new_test['Event Clearance SubGroup'] == 14)| (new_test['Event Clearance SubGroup'] == 32) |\n",
    "                   (new_test['Event Clearance SubGroup'] == 4)]\n",
    "\n",
    "#I am using more rows for the Random Forest Classification, as it takes less time than the Neural Network model to run\n",
    "forest_test = new_test[(new_test['Event Clearance SubGroup'] == 34) | (new_test['Event Clearance SubGroup'] == 31) |\n",
    "                   (new_test['Event Clearance SubGroup'] == 8) | (new_test['Event Clearance SubGroup'] == 20) | \n",
    "                    (new_test['Event Clearance SubGroup'] == 14)| (new_test['Event Clearance SubGroup'] == 32) |\n",
    "                   (new_test['Event Clearance SubGroup'] == 4) | (new_test['Event Clearance SubGroup'] == 35) |\n",
    "                      (new_test['Event Clearance SubGroup'] == 19)] \n",
    "\n",
    "forest_X = forest_test[['Longitude', 'Latitude', 'Distance From Center']]\n",
    "forest_y = forest_test['Event Clearance SubGroup']\n",
    "X = new_test[['Longitude', 'Latitude', 'Distance From Center']]\n",
    "y = new_test['Event Clearance SubGroup']"
   ]
  },
  {
   "cell_type": "markdown",
   "metadata": {},
   "source": [
    "We need to use train_test_split in order to get the testing and training parts of our data that we input into the models."
   ]
  },
  {
   "cell_type": "code",
   "execution_count": 55,
   "metadata": {},
   "outputs": [],
   "source": [
    "X_train, X_test, y_train, y_test = train_test_split(X, y, test_size=0.33, random_state = 42)\n",
    "forest_X_train, forest_X_test, forest_y_train, forest_y_test = train_test_split(forest_X, forest_y, test_size=0.33, random_state=42)"
   ]
  },
  {
   "cell_type": "markdown",
   "metadata": {},
   "source": [
    "## Running the Neural Network Model"
   ]
  },
  {
   "cell_type": "code",
   "execution_count": 56,
   "metadata": {},
   "outputs": [],
   "source": [
    "#Takes 10 minutes to run\n",
    "clf = MLPClassifier()\n",
    "clf.fit(X_train, y_train)\n",
    "result = clf.predict(X_test)"
   ]
  },
  {
   "cell_type": "markdown",
   "metadata": {},
   "source": [
    "## Running the Random Forest Classifier Model"
   ]
  },
  {
   "cell_type": "code",
   "execution_count": 57,
   "metadata": {},
   "outputs": [],
   "source": [
    "from sklearn.ensemble import RandomForestClassifier\n",
    "\n",
    "random_forest = RandomForestClassifier()\n",
    "random_forest.fit(forest_X_train, forest_y_train)\n",
    "result_forest = random_forest.predict(forest_X_test)"
   ]
  },
  {
   "cell_type": "markdown",
   "metadata": {},
   "source": [
    "# Results(Accuracy)"
   ]
  },
  {
   "cell_type": "markdown",
   "metadata": {},
   "source": [
    "### Accuracy Scores"
   ]
  },
  {
   "cell_type": "markdown",
   "metadata": {},
   "source": [
    "Now, we need to check the accuracy of our two model"
   ]
  },
  {
   "cell_type": "markdown",
   "metadata": {},
   "source": [
    "#### Neural Network Accuracy"
   ]
  },
  {
   "cell_type": "code",
   "execution_count": 58,
   "metadata": {},
   "outputs": [
    {
     "name": "stdout",
     "output_type": "stream",
     "text": [
      "0.2603846251620612\n"
     ]
    }
   ],
   "source": [
    "print(accuracy_score(y_test, result))"
   ]
  },
  {
   "cell_type": "markdown",
   "metadata": {},
   "source": [
    "#### Random Forest Classifier Accuracy"
   ]
  },
  {
   "cell_type": "code",
   "execution_count": 59,
   "metadata": {},
   "outputs": [
    {
     "name": "stdout",
     "output_type": "stream",
     "text": [
      "0.43636080534865396\n"
     ]
    }
   ],
   "source": [
    "print(accuracy_score(y_test, result_forest))"
   ]
  },
  {
   "cell_type": "markdown",
   "metadata": {},
   "source": [
    "As seen by the output above, the accuracy of the Neural Network model is around 25.4%. The reason why the accuracy is this low is due to the fact that I am only testing using rows that have the top 7 most occurring incidents. However, the model works better than randomly picking 1 of the 7 categories, as there is a $\\frac{1}{7}$ (14.28%) chance of predicting the right one.\n",
    "\n",
    "The accuracy of the Random Forest Classifier is around 43.7%, which is a lot better than the Neural Network Model's for the data that I have."
   ]
  },
  {
   "cell_type": "markdown",
   "metadata": {},
   "source": [
    "## Confusion Matrices"
   ]
  },
  {
   "cell_type": "code",
   "execution_count": 60,
   "metadata": {},
   "outputs": [],
   "source": [
    "from sklearn.metrics import confusion_matrix\n",
    "\n",
    "matrix = confusion_matrix(y_test, result)\n",
    "forest_matrix = confusion_matrix(forest_y_test, result_forest)"
   ]
  },
  {
   "cell_type": "markdown",
   "metadata": {},
   "source": [
    "### Neural Network Model Confusion Matrix"
   ]
  },
  {
   "cell_type": "code",
   "execution_count": 61,
   "metadata": {},
   "outputs": [
    {
     "data": {
      "image/png": "[encoded data removed]",
      "text/plain": [
       "<matplotlib.figure.Figure at 0x7fbc88461668>"
      ]
     },
     "metadata": {},
     "output_type": "display_data"
    }
   ],
   "source": [
    "cm = normalize(matrix, axis=1, norm='l1')\n",
    "df_cm = pd.DataFrame(cm, range(len(cm)), range(len(cm)))\n",
    "\n",
    "sn.set(font_scale=1.4)\n",
    "h_map = sn.heatmap(df_cm, annot=True,annot_kws={\"size\": 12}); #font size\n",
    "plt.ylabel('Actual')\n",
    "plt.xlabel('Predicted');"
   ]
  },
  {
   "cell_type": "markdown",
   "metadata": {},
   "source": [
    "### Random Forest Model Confusion Matrix"
   ]
  },
  {
   "cell_type": "code",
   "execution_count": 62,
   "metadata": {},
   "outputs": [
    {
     "data": {
      "image/png": "[encoded data removed]",
      "text/plain": [
       "<matplotlib.figure.Figure at 0x7fbc88421390>"
      ]
     },
     "metadata": {},
     "output_type": "display_data"
    }
   ],
   "source": [
    "forest_cm = normalize(forest_matrix, axis=1, norm='l1')\n",
    "df_cm = pd.DataFrame(forest_cm, range(len(forest_cm)), range(len(forest_cm)))\n",
    "\n",
    "sn.set(font_scale=1.4)\n",
    "h_map = sn.heatmap(df_cm, annot=True,annot_kws={\"size\": 12}); #font size\n",
    "plt.ylabel('Actual')\n",
    "plt.xlabel('Predicted');"
   ]
  },
  {
   "cell_type": "markdown",
   "metadata": {},
   "source": [
    "## Through these confusion matrices and accuracy scores, it is clear that the Random Forest Classifier model did a better job of predicting the type of crime based on several factors related to their locations. We can conclude that location does play a factor in the type of crime that takes place, but is not the only factor, as the models from my data only predict accurately 25% and 43% of the time respectively."
   ]
  },
  {
   "cell_type": "markdown",
   "metadata": {},
   "source": [
    "<!--NAVIGATION-->\n",
    "< [**Previous:** 03 - EDA](03-EDA.ipynb) | [**Next:** 05 - Presentation](05-Presentation.ipynb) >    "
   ]
  }
 ],
 "metadata": {
  "kernelspec": {
   "display_name": "Python 3",
   "language": "python",
   "name": "python3"
  },
  "language_info": {
   "codemirror_mode": {
    "name": "ipython",
    "version": 3
   },
   "file_extension": ".py",
   "mimetype": "text/x-python",
   "name": "python",
   "nbconvert_exporter": "python",
   "pygments_lexer": "ipython3",
   "version": "3.6.3"
  }
 },
 "nbformat": 4,
 "nbformat_minor": 2
}
