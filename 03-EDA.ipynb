{
 "cells": [
  {
   "cell_type": "markdown",
   "metadata": {},
   "source": [
    "<!--NAVIGATION-->\n",
    "< [**Previous:** 02 - Import and Tidy](02-Import & Tidy.ipynb) | [**Next:** 04 - Modeling](04-Modeling.ipynb) >"
   ]
  },
  {
   "cell_type": "markdown",
   "metadata": {},
   "source": [
    "# Exploratory Data Analysis"
   ]
  },
  {
   "cell_type": "markdown",
   "metadata": {},
   "source": [
    "The purpose of this notebook is to explore this dataset with visualizations."
   ]
  },
  {
   "cell_type": "code",
   "execution_count": 1,
   "metadata": {},
   "outputs": [],
   "source": [
    "import pandas as pd\n",
    "import numpy as np\n",
    "import altair as alt\n",
    "from altair import limit_rows\n",
    "from matplotlib import pyplot as plt\n",
    "%matplotlib inline"
   ]
  },
  {
   "cell_type": "markdown",
   "metadata": {},
   "source": [
    "## Be Able to Use More Rows than the default 5000"
   ]
  },
  {
   "cell_type": "code",
   "execution_count": 2,
   "metadata": {},
   "outputs": [],
   "source": [
    "def custom(data):\n",
    "    return alt.pipe(data, alt.to_json(\n",
    "        base_url='https://data301.calpolydatascience.org/user/anikethb'\n",
    "    ))"
   ]
  },
  {
   "cell_type": "code",
   "execution_count": 3,
   "metadata": {},
   "outputs": [],
   "source": [
    "alt.data_transformers.register('custom', custom)\n",
    "alt.data_transformers.enable('custom')"
   ]
  },
  {
   "cell_type": "markdown",
   "metadata": {},
   "source": [
    "## Import Dataset From Tidy"
   ]
  },
  {
   "cell_type": "code",
   "execution_count": 4,
   "metadata": {},
   "outputs": [],
   "source": [
    "dataset= pd.read_csv('/data/anikethb/tidy_dataset.csv')"
   ]
  },
  {
   "cell_type": "code",
   "execution_count": 5,
   "metadata": {},
   "outputs": [
    {
     "data": {
      "text/html": [
       "<div>\n",
       "<style scoped>\n",
       "    .dataframe tbody tr th:only-of-type {\n",
       "        vertical-align: middle;\n",
       "    }\n",
       "\n",
       "    .dataframe tbody tr th {\n",
       "        vertical-align: top;\n",
       "    }\n",
       "\n",
       "    .dataframe thead th {\n",
       "        text-align: right;\n",
       "    }\n",
       "</style>\n",
       "<table border=\"1\" class=\"dataframe\">\n",
       "  <thead>\n",
       "    <tr style=\"text-align: right;\">\n",
       "      <th></th>\n",
       "      <th>Event Clearance Code</th>\n",
       "      <th>Event Clearance Description</th>\n",
       "      <th>Event Clearance SubGroup</th>\n",
       "      <th>District/Sector</th>\n",
       "      <th>Zone/Beat</th>\n",
       "      <th>Census Tract</th>\n",
       "      <th>Longitude</th>\n",
       "      <th>Latitude</th>\n",
       "    </tr>\n",
       "  </thead>\n",
       "  <tbody>\n",
       "    <tr>\n",
       "      <th>0</th>\n",
       "      <td>242.0</td>\n",
       "      <td>FIGHT DISTURBANCE</td>\n",
       "      <td>DISTURBANCES</td>\n",
       "      <td>M</td>\n",
       "      <td>M2</td>\n",
       "      <td>8100.2001</td>\n",
       "      <td>-122.338147</td>\n",
       "      <td>47.610975</td>\n",
       "    </tr>\n",
       "    <tr>\n",
       "      <th>1</th>\n",
       "      <td>65.0</td>\n",
       "      <td>THEFT - MISCELLANEOUS</td>\n",
       "      <td>THEFT</td>\n",
       "      <td>Q</td>\n",
       "      <td>Q1</td>\n",
       "      <td>5700.1012</td>\n",
       "      <td>-122.404613</td>\n",
       "      <td>47.658325</td>\n",
       "    </tr>\n",
       "    <tr>\n",
       "      <th>2</th>\n",
       "      <td>250.0</td>\n",
       "      <td>MISCHIEF, NUISANCE COMPLAINTS</td>\n",
       "      <td>NUISANCE, MISCHIEF COMPLAINTS</td>\n",
       "      <td>M</td>\n",
       "      <td>M2</td>\n",
       "      <td>7200.2025</td>\n",
       "      <td>-122.342843</td>\n",
       "      <td>47.613551</td>\n",
       "    </tr>\n",
       "    <tr>\n",
       "      <th>3</th>\n",
       "      <td>460.0</td>\n",
       "      <td>TRAFFIC (MOVING) VIOLATION</td>\n",
       "      <td>TRAFFIC RELATED CALLS</td>\n",
       "      <td>D</td>\n",
       "      <td>D1</td>\n",
       "      <td>7200.1002</td>\n",
       "      <td>-122.341847</td>\n",
       "      <td>47.625401</td>\n",
       "    </tr>\n",
       "    <tr>\n",
       "      <th>4</th>\n",
       "      <td>250.0</td>\n",
       "      <td>MISCHIEF, NUISANCE COMPLAINTS</td>\n",
       "      <td>NUISANCE, MISCHIEF COMPLAINTS</td>\n",
       "      <td>D</td>\n",
       "      <td>D1</td>\n",
       "      <td>6700.1009</td>\n",
       "      <td>-122.339709</td>\n",
       "      <td>47.627425</td>\n",
       "    </tr>\n",
       "  </tbody>\n",
       "</table>\n",
       "</div>"
      ],
      "text/plain": [
       "   Event Clearance Code    Event Clearance Description  \\\n",
       "0                 242.0              FIGHT DISTURBANCE   \n",
       "1                  65.0          THEFT - MISCELLANEOUS   \n",
       "2                 250.0  MISCHIEF, NUISANCE COMPLAINTS   \n",
       "3                 460.0     TRAFFIC (MOVING) VIOLATION   \n",
       "4                 250.0  MISCHIEF, NUISANCE COMPLAINTS   \n",
       "\n",
       "        Event Clearance SubGroup District/Sector Zone/Beat Census Tract  \\\n",
       "0                   DISTURBANCES               M        M2    8100.2001   \n",
       "1                          THEFT               Q        Q1    5700.1012   \n",
       "2  NUISANCE, MISCHIEF COMPLAINTS               M        M2    7200.2025   \n",
       "3          TRAFFIC RELATED CALLS               D        D1    7200.1002   \n",
       "4  NUISANCE, MISCHIEF COMPLAINTS               D        D1    6700.1009   \n",
       "\n",
       "    Longitude   Latitude  \n",
       "0 -122.338147  47.610975  \n",
       "1 -122.404613  47.658325  \n",
       "2 -122.342843  47.613551  \n",
       "3 -122.341847  47.625401  \n",
       "4 -122.339709  47.627425  "
      ]
     },
     "execution_count": 5,
     "metadata": {},
     "output_type": "execute_result"
    }
   ],
   "source": [
    "dataset.head()"
   ]
  },
  {
   "cell_type": "markdown",
   "metadata": {},
   "source": [
    "## Zone vs Number of Incidents"
   ]
  },
  {
   "cell_type": "markdown",
   "metadata": {},
   "source": [
    "First, I want to inspect the relationship between Zone/Beat and the number of crimes that happen in each one. To do this, I need to create a dataframe with 2 columns: Zone/Beat, and one with the number of crimes/911 calls in that zone."
   ]
  },
  {
   "cell_type": "code",
   "execution_count": 6,
   "metadata": {},
   "outputs": [],
   "source": [
    "incidents_count = dataset.groupby('Zone/Beat', as_index=False)['Longitude'].count()\n",
    "incidents_count_df = pd.DataFrame(incidents_count)\n",
    "incidents_count_df = incidents_count_df[incidents_count_df['Longitude'] > 1500]"
   ]
  },
  {
   "cell_type": "markdown",
   "metadata": {},
   "source": [
    "I am using the count aggregate on the 'Longitude' column to get the number of incidents per zone. Any column could've been used, since all I need is the number of rows that each zone has in this dataset. In addition, a filter is in place so that only zones with over 1500 crimes will be kept in the dataframe. Anything less than that is too low of a number to analyze."
   ]
  },
  {
   "cell_type": "code",
   "execution_count": 7,
   "metadata": {},
   "outputs": [
    {
     "data": {
      "text/html": [
       "<div>\n",
       "<style scoped>\n",
       "    .dataframe tbody tr th:only-of-type {\n",
       "        vertical-align: middle;\n",
       "    }\n",
       "\n",
       "    .dataframe tbody tr th {\n",
       "        vertical-align: top;\n",
       "    }\n",
       "\n",
       "    .dataframe thead th {\n",
       "        text-align: right;\n",
       "    }\n",
       "</style>\n",
       "<table border=\"1\" class=\"dataframe\">\n",
       "  <thead>\n",
       "    <tr style=\"text-align: right;\">\n",
       "      <th></th>\n",
       "      <th>Zone/Beat</th>\n",
       "      <th>Longitude</th>\n",
       "    </tr>\n",
       "  </thead>\n",
       "  <tbody>\n",
       "    <tr>\n",
       "      <th>50</th>\n",
       "      <td>M2</td>\n",
       "      <td>48317</td>\n",
       "    </tr>\n",
       "    <tr>\n",
       "      <th>40</th>\n",
       "      <td>K2</td>\n",
       "      <td>46922</td>\n",
       "    </tr>\n",
       "    <tr>\n",
       "      <th>51</th>\n",
       "      <td>M3</td>\n",
       "      <td>44108</td>\n",
       "    </tr>\n",
       "    <tr>\n",
       "      <th>41</th>\n",
       "      <td>K3</td>\n",
       "      <td>43930</td>\n",
       "    </tr>\n",
       "    <tr>\n",
       "      <th>19</th>\n",
       "      <td>E2</td>\n",
       "      <td>43177</td>\n",
       "    </tr>\n",
       "  </tbody>\n",
       "</table>\n",
       "</div>"
      ],
      "text/plain": [
       "   Zone/Beat  Longitude\n",
       "50        M2      48317\n",
       "40        K2      46922\n",
       "51        M3      44108\n",
       "41        K3      43930\n",
       "19        E2      43177"
      ]
     },
     "execution_count": 7,
     "metadata": {},
     "output_type": "execute_result"
    }
   ],
   "source": [
    "incidents_count_df.sort_values(['Longitude'], ascending=False, inplace=True)\n",
    "incidents_count_df.head()"
   ]
  },
  {
   "cell_type": "markdown",
   "metadata": {},
   "source": [
    "Of those filtered rows, I sort it by decreasing number of incidents to get a gist of whether or not there is a certain relationship between zones and number of crimes. At glance, we can see that 6 of the top 7 zones with the most incidents come from either the M or K districts.  "
   ]
  },
  {
   "cell_type": "code",
   "execution_count": 8,
   "metadata": {},
   "outputs": [
    {
     "data": {
      "image/png": "[encoded data removed]",
      "text/plain": [
       "<matplotlib.figure.Figure at 0x7f85e06c5208>"
      ]
     },
     "metadata": {},
     "output_type": "display_data"
    }
   ],
   "source": [
    "zones = incidents_count_df['Zone/Beat']\n",
    "num_incidents = incidents_count_df['Longitude']\n",
    "y_pos = np.arange(len(zones))\n",
    "\n",
    "plt.figure(figsize=(20,3))\n",
    "plt.bar(y_pos, num_incidents, align = 'edge', alpha = 0.4, width=0.3)\n",
    "plt.xticks(y_pos, zones)\n",
    "plt.xlabel('Zone')\n",
    "plt.ylabel('Number of Incidents')\n",
    "plt.title('Zone vs Number of Incidents');"
   ]
  },
  {
   "cell_type": "markdown",
   "metadata": {},
   "source": [
    "Here, we plot the relationship between zone and the number of incidents, using the sorted incidents_count dataframe. We can visually see how the most of the zones that have the highest number of incidents come from the M and K districts. Due to this, I want to dive deeper into this relationship and see how the districts compare to one another in terms of the number of incidents."
   ]
  },
  {
   "cell_type": "markdown",
   "metadata": {},
   "source": [
    "## District vs Number of Incidents"
   ]
  },
  {
   "cell_type": "code",
   "execution_count": 9,
   "metadata": {},
   "outputs": [],
   "source": [
    "district_incidents = dataset.groupby('District/Sector', as_index=False)['Longitude'].count()\n",
    "district_incidents_df = pd.DataFrame(district_incidents)\n",
    "\n",
    "district_incidents_df = district_incidents_df[district_incidents_df['Longitude'] > 1500]\n",
    "\n",
    "district_incidents_df.sort_values(['Longitude'], ascending=False, inplace=True)"
   ]
  },
  {
   "cell_type": "code",
   "execution_count": 10,
   "metadata": {},
   "outputs": [
    {
     "data": {
      "image/png": "[encoded data removed]",
      "text/plain": [
       "<matplotlib.figure.Figure at 0x7f85e05bc9b0>"
      ]
     },
     "metadata": {},
     "output_type": "display_data"
    }
   ],
   "source": [
    "zones = district_incidents_df['District/Sector']\n",
    "num_incidents = district_incidents_df['Longitude']\n",
    "y_pos = np.arange(len(zones))\n",
    "\n",
    "plt.figure(figsize=(20,3))\n",
    "plt.bar(y_pos, num_incidents, align = 'center', alpha = 0.4, width=0.3)\n",
    "plt.xticks(y_pos, zones)\n",
    "plt.xlabel('District')\n",
    "plt.ylabel('Number of Incidents')\n",
    "plt.title('District vs Number of Incidents');"
   ]
  },
  {
   "cell_type": "markdown",
   "metadata": {},
   "source": [
    "After plotting the relationship between district and the number of incidents, we can see that my conjecture above is confirmed, with districts K and M having a considerably larger amount of crimes/incidents than other districts. "
   ]
  },
  {
   "cell_type": "markdown",
   "metadata": {},
   "source": [
    "## Distance From Center of City vs Number of Incidents"
   ]
  },
  {
   "cell_type": "markdown",
   "metadata": {},
   "source": [
    "When looking at the Zone/Beat map of Seattle, I found that Districts K and M are around the center of the city. Due to this, an interesting relationship that I want to explore is the possible correlation between distance from the center of Seattle to the number of crimes that occur in that area. To do this, we need to first create a new column that holds the value of the distance from the center of Seattle. We need to use the given longitude and latitude values in the dataset to do this."
   ]
  },
  {
   "cell_type": "markdown",
   "metadata": {},
   "source": [
    "We have to use the **haversine formula** to calculate the \"great-circle\" distance between two points(the shortest distance over the Earth's surface). The coordinates for the center of Seattle are (47.6223, -122.3522)\n",
    "\n",
    "**Haversine formula**\n",
    "$$\n",
    "a = sin^2(\\frac{\\Delta\\phi}{2}) + cos(\\phi1)cos(\\phi2)sin^2(\\frac{\\Delta\\lambda}{2})\n",
    "$$\n",
    "\n",
    "$$\n",
    "c = 2 * sin^-1(\\sqrt{a})\n",
    "$$\n",
    "\n",
    "                                         r = 3956 (radius of earth in miles, use 6371 for km)\n",
    "\n",
    "                                         d = c * r\n",
    "\n",
    "where \n",
    "\n",
    "- $ \\Delta\\phi $ is the difference between the two latitudes\n",
    "- $ \\phi $ is the latitude\n",
    "- $ \\Delta\\lambda $ is the difference between the two longitudes\n",
    "- $ \\lambda $ is the longitude\n",
    "- d is the final calculated distance in miles\n"
   ]
  },
  {
   "cell_type": "code",
   "execution_count": 11,
   "metadata": {},
   "outputs": [],
   "source": [
    "from math import radians, cos, sin, asin, sqrt\n",
    "\n",
    "def distance_from_center(row):\n",
    "    '''Returns a value for the distance from the center of Seattle'''\n",
    "    return haversine(row['Latitude'], row['Longitude'])\n",
    "    \n",
    "def haversine(lat, long):\n",
    "    '''Calculate the great circle distance between two points on the earth (specified in decimal degrees) in miles'''\n",
    "    \n",
    "    lon_center = -122.3522 #Longitude of the center of Seattle\n",
    "    lat_center = 47.6223 #Latitude of the center of Seattle\n",
    "    \n",
    "    # convert decimal degrees to radians \n",
    "    lon, lat, lon_center, lat_center = map(radians, [long, lat, lon_center, lat_center])\n",
    "\n",
    "    # haversine formula \n",
    "    diff_lat = lat_center - lat \n",
    "    diff_lon = lon_center - lon\n",
    "    a = sin(diff_lat/2)**2 + cos(lat) * cos(lat_center) * sin(diff_lon/2)**2\n",
    "    c = 2 * asin(sqrt(a)) \n",
    "    r = 3956       # Radius of earth in miles\n",
    "    \n",
    "    return c * r #Returns final distance"
   ]
  },
  {
   "cell_type": "markdown",
   "metadata": {},
   "source": [
    "To test the haversine function, I am looking up the actual distance between the coordinates on the internet and comparing it with the output of the function."
   ]
  },
  {
   "cell_type": "code",
   "execution_count": 20,
   "metadata": {},
   "outputs": [],
   "source": [
    "#Tests to make sure my haversine function works\n",
    "assert haversine(47.6345, -122.4453) - 4.416 <= 0.001\n",
    "assert haversine(47.6245, -122.5453) - 8.991 <= 0.001\n",
    "assert haversine(47.6223, -122.3522) - 0 <= 0.001"
   ]
  },
  {
   "cell_type": "markdown",
   "metadata": {},
   "source": [
    "Now, we create the new column in the DataFrame"
   ]
  },
  {
   "cell_type": "code",
   "execution_count": 13,
   "metadata": {},
   "outputs": [],
   "source": [
    "#Takes a few minutes to run\n",
    "dataset['Distance From Center'] = dataset.apply(distance_from_center, axis=1)"
   ]
  },
  {
   "cell_type": "code",
   "execution_count": 14,
   "metadata": {},
   "outputs": [
    {
     "data": {
      "text/html": [
       "<div>\n",
       "<style scoped>\n",
       "    .dataframe tbody tr th:only-of-type {\n",
       "        vertical-align: middle;\n",
       "    }\n",
       "\n",
       "    .dataframe tbody tr th {\n",
       "        vertical-align: top;\n",
       "    }\n",
       "\n",
       "    .dataframe thead th {\n",
       "        text-align: right;\n",
       "    }\n",
       "</style>\n",
       "<table border=\"1\" class=\"dataframe\">\n",
       "  <thead>\n",
       "    <tr style=\"text-align: right;\">\n",
       "      <th></th>\n",
       "      <th>Event Clearance Code</th>\n",
       "      <th>Event Clearance Description</th>\n",
       "      <th>Event Clearance SubGroup</th>\n",
       "      <th>District/Sector</th>\n",
       "      <th>Zone/Beat</th>\n",
       "      <th>Census Tract</th>\n",
       "      <th>Longitude</th>\n",
       "      <th>Latitude</th>\n",
       "      <th>Distance From Center</th>\n",
       "    </tr>\n",
       "  </thead>\n",
       "  <tbody>\n",
       "    <tr>\n",
       "      <th>0</th>\n",
       "      <td>242.0</td>\n",
       "      <td>FIGHT DISTURBANCE</td>\n",
       "      <td>DISTURBANCES</td>\n",
       "      <td>M</td>\n",
       "      <td>M2</td>\n",
       "      <td>8100.2001</td>\n",
       "      <td>-122.338147</td>\n",
       "      <td>47.610975</td>\n",
       "      <td>1.019422</td>\n",
       "    </tr>\n",
       "    <tr>\n",
       "      <th>1</th>\n",
       "      <td>65.0</td>\n",
       "      <td>THEFT - MISCELLANEOUS</td>\n",
       "      <td>THEFT</td>\n",
       "      <td>Q</td>\n",
       "      <td>Q1</td>\n",
       "      <td>5700.1012</td>\n",
       "      <td>-122.404613</td>\n",
       "      <td>47.658325</td>\n",
       "      <td>3.483148</td>\n",
       "    </tr>\n",
       "    <tr>\n",
       "      <th>2</th>\n",
       "      <td>250.0</td>\n",
       "      <td>MISCHIEF, NUISANCE COMPLAINTS</td>\n",
       "      <td>NUISANCE, MISCHIEF COMPLAINTS</td>\n",
       "      <td>M</td>\n",
       "      <td>M2</td>\n",
       "      <td>7200.2025</td>\n",
       "      <td>-122.342843</td>\n",
       "      <td>47.613551</td>\n",
       "      <td>0.744654</td>\n",
       "    </tr>\n",
       "    <tr>\n",
       "      <th>3</th>\n",
       "      <td>460.0</td>\n",
       "      <td>TRAFFIC (MOVING) VIOLATION</td>\n",
       "      <td>TRAFFIC RELATED CALLS</td>\n",
       "      <td>D</td>\n",
       "      <td>D1</td>\n",
       "      <td>7200.1002</td>\n",
       "      <td>-122.341847</td>\n",
       "      <td>47.625401</td>\n",
       "      <td>0.527233</td>\n",
       "    </tr>\n",
       "    <tr>\n",
       "      <th>4</th>\n",
       "      <td>250.0</td>\n",
       "      <td>MISCHIEF, NUISANCE COMPLAINTS</td>\n",
       "      <td>NUISANCE, MISCHIEF COMPLAINTS</td>\n",
       "      <td>D</td>\n",
       "      <td>D1</td>\n",
       "      <td>6700.1009</td>\n",
       "      <td>-122.339709</td>\n",
       "      <td>47.627425</td>\n",
       "      <td>0.680518</td>\n",
       "    </tr>\n",
       "  </tbody>\n",
       "</table>\n",
       "</div>"
      ],
      "text/plain": [
       "   Event Clearance Code    Event Clearance Description  \\\n",
       "0                 242.0              FIGHT DISTURBANCE   \n",
       "1                  65.0          THEFT - MISCELLANEOUS   \n",
       "2                 250.0  MISCHIEF, NUISANCE COMPLAINTS   \n",
       "3                 460.0     TRAFFIC (MOVING) VIOLATION   \n",
       "4                 250.0  MISCHIEF, NUISANCE COMPLAINTS   \n",
       "\n",
       "        Event Clearance SubGroup District/Sector Zone/Beat Census Tract  \\\n",
       "0                   DISTURBANCES               M        M2    8100.2001   \n",
       "1                          THEFT               Q        Q1    5700.1012   \n",
       "2  NUISANCE, MISCHIEF COMPLAINTS               M        M2    7200.2025   \n",
       "3          TRAFFIC RELATED CALLS               D        D1    7200.1002   \n",
       "4  NUISANCE, MISCHIEF COMPLAINTS               D        D1    6700.1009   \n",
       "\n",
       "    Longitude   Latitude  Distance From Center  \n",
       "0 -122.338147  47.610975              1.019422  \n",
       "1 -122.404613  47.658325              3.483148  \n",
       "2 -122.342843  47.613551              0.744654  \n",
       "3 -122.341847  47.625401              0.527233  \n",
       "4 -122.339709  47.627425              0.680518  "
      ]
     },
     "execution_count": 14,
     "metadata": {},
     "output_type": "execute_result"
    }
   ],
   "source": [
    "dataset.head()"
   ]
  },
  {
   "cell_type": "markdown",
   "metadata": {},
   "source": [
    "As seen by the output above, the new column \"Distance From Center\" is now added to the DataFrame."
   ]
  },
  {
   "cell_type": "code",
   "execution_count": 15,
   "metadata": {},
   "outputs": [
    {
     "data": {
      "application/vnd.vegalite.v2+json": {
       "$schema": "https://vega.github.io/schema/vega-lite/v2.json",
       "config": {
        "view": {
         "height": 300,
         "width": 400
        }
       },
       "data": {
        "format": {
         "type": "json"
        },
        "url": "https://data301.calpolydatascience.org/user/anikethb/files/Final Project/altair-data-3e7613b8-cc8f-4829-952e-d4d22e967593.json"
       },
       "encoding": {
        "x": {
         "axis": {
          "title": "Distance From Center(miles)"
         },
         "bin": {
          "step": 0.1
         },
         "field": "Distance From Center",
         "type": "quantitative"
        },
        "y": {
         "aggregate": "count",
         "axis": {
          "title": "Number of Incidents"
         },
         "field": "*",
         "type": "quantitative"
        }
       },
       "mark": "bar"
      },
      "text/plain": [
       "<VegaLite 2 object>"
      ]
     },
     "execution_count": 15,
     "metadata": {},
     "output_type": "execute_result"
    }
   ],
   "source": [
    "#Takes around 15 seconds to run\n",
    "sample = dataset.sample(n=100000)\n",
    "alt.Chart(sample).mark_bar().encode(\n",
    "    alt.X('Distance From Center', axis=alt.Axis(title='Distance From Center(miles)'), bin=alt.Bin(step=0.1)),\n",
    "    alt.Y('count(*):Q', axis=alt.Axis(title = 'Number of Incidents'))    \n",
    ")"
   ]
  },
  {
   "cell_type": "markdown",
   "metadata": {},
   "source": [
    "Here, we see that with the exception of incidents from 0-1 mile from the center of Seattle, there is a negative correlation between the distance from the center of Seattle and the number of incients/911 calls."
   ]
  },
  {
   "cell_type": "markdown",
   "metadata": {},
   "source": [
    "# Relationship Between the Number of Unique Crimes in a District, the Total Number of Crimes, and the Distance From the Center of the City"
   ]
  },
  {
   "cell_type": "markdown",
   "metadata": {},
   "source": [
    "Here, we are going to create a new Dataframe that will have columns of \"District/Sector\", \"Distance From Center\", the number of unique crimes in each district, and the total number of crimes in each district."
   ]
  },
  {
   "cell_type": "code",
   "execution_count": 16,
   "metadata": {},
   "outputs": [],
   "source": [
    "district_distance = dataset.groupby('District/Sector', as_index=False)['Distance From Center'].mean()\n",
    "district_distance_df = pd.DataFrame(district_distance)\n",
    "\n",
    "district_unique = dataset.groupby('District/Sector', as_index=False)['Event Clearance SubGroup'].nunique()\n",
    "district_unique_df = pd.DataFrame(district_unique)\n",
    "\n",
    "district_num_incidents = dataset.groupby('District/Sector', as_index=False)['Longitude'].count()\n",
    "district_num_incidents_df = pd.DataFrame(district_num_incidents)\n",
    "district_num_incidents_df.rename(columns ={'District/Sector': 'districts_2'}, inplace =True)\n",
    "\n",
    "district_concat_df = pd.concat([district_distance_df, district_unique_df, district_num_incidents_df], axis=1).reindex()\n",
    "district_concat_df.rename(columns={'Longitude': 'Num_Incidents'}, inplace=True)"
   ]
  },
  {
   "cell_type": "code",
   "execution_count": 17,
   "metadata": {},
   "outputs": [
    {
     "data": {
      "application/vnd.vegalite.v2+json": {
       "$schema": "https://vega.github.io/schema/vega-lite/v2.json",
       "config": {
        "view": {
         "height": 300,
         "width": 400
        }
       },
       "data": {
        "format": {
         "type": "json"
        },
        "url": "https://data301.calpolydatascience.org/user/anikethb/files/Final Project/altair-data-47e4a773-da65-441d-945e-fb0be74e73e5.json"
       },
       "encoding": {
        "color": {
         "field": "District/Sector",
         "type": "nominal"
        },
        "size": {
         "field": "Num_Incidents",
         "type": "quantitative"
        },
        "x": {
         "axis": {
          "title": "Distance From Center of Seattle(miles)"
         },
         "field": "Distance From Center",
         "type": "quantitative"
        },
        "y": {
         "axis": {
          "title": "Number of Unique Crimes"
         },
         "field": "Event Clearance SubGroup",
         "type": "quantitative"
        }
       },
       "mark": "circle"
      },
      "text/plain": [
       "<VegaLite 2 object>"
      ]
     },
     "execution_count": 17,
     "metadata": {},
     "output_type": "execute_result"
    }
   ],
   "source": [
    "alt.Chart(district_concat_df).mark_circle().encode(\n",
    "    alt.X('Distance From Center', axis=alt.Axis(title='Distance From Center of Seattle(miles)')),\n",
    "    alt.Y('Event Clearance SubGroup', axis=alt.Axis(title='Number of Unique Crimes')),\n",
    "    alt.Size('Num_Incidents'),\n",
    "    alt.Color('District/Sector', type = 'nominal')\n",
    "\n",
    ")"
   ]
  },
  {
   "cell_type": "markdown",
   "metadata": {},
   "source": [
    "From this visualization, we can tell that the districts with larger amounts of crime, which are the circles that are the largest, happen to be closer to the center of the city. In addition, all the districts that have a large enough amount of incidents to be shown in the visualization have around the same number of unique crimes. "
   ]
  },
  {
   "cell_type": "markdown",
   "metadata": {},
   "source": [
    "# Conclusions That Can Be Made Up To This Point"
   ]
  },
  {
   "cell_type": "markdown",
   "metadata": {},
   "source": [
    "- Location does play a big role in the total number of crimes, and can be a factor in the amount of the specific types of crime as well. \n",
    "\n",
    "- The most important columns that we need now are just the ones that have to do with location, along with the column that I will be predicting(Event Clearance SubGroup). Thus, I will filter the dataframe down to those columns for the Modeling section."
   ]
  },
  {
   "cell_type": "code",
   "execution_count": 18,
   "metadata": {},
   "outputs": [],
   "source": [
    "dataset = dataset[['Event Clearance SubGroup', 'District/Sector', 'Zone/Beat', 'Longitude', 'Latitude', 'Distance From Center']]"
   ]
  },
  {
   "cell_type": "markdown",
   "metadata": {},
   "source": [
    "# Export"
   ]
  },
  {
   "cell_type": "code",
   "execution_count": 19,
   "metadata": {},
   "outputs": [],
   "source": [
    "# Takes around 20 seconds to run\n",
    "dataset.to_csv('/data/anikethb/EDA_dataset.csv', sep = ',', index=False)"
   ]
  },
  {
   "cell_type": "markdown",
   "metadata": {},
   "source": [
    "<!--NAVIGATION-->\n",
    "< [**Previous:** 02 - Import and Tidy](02-Import & Tidy.ipynb) | [**Next:** 04 - Modeling](04-Modeling.ipynb) >"
   ]
  }
 ],
 "metadata": {
  "kernelspec": {
   "display_name": "Python 3",
   "language": "python",
   "name": "python3"
  },
  "language_info": {
   "codemirror_mode": {
    "name": "ipython",
    "version": 3
   },
   "file_extension": ".py",
   "mimetype": "text/x-python",
   "name": "python",
   "nbconvert_exporter": "python",
   "pygments_lexer": "ipython3",
   "version": "3.6.3"
  }
 },
 "nbformat": 4,
 "nbformat_minor": 2
}
