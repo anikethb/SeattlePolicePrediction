{
 "cells": [
  {
   "cell_type": "markdown",
   "metadata": {},
   "source": [
    "[**Next:** 02 - Import & Tidy](02-Import & Tidy.ipynb) >"
   ]
  },
  {
   "cell_type": "markdown",
   "metadata": {},
   "source": [
    "# Predicting Seattle Crimes"
   ]
  },
  {
   "cell_type": "markdown",
   "metadata": {},
   "source": [
    "## Table of Contents"
   ]
  },
  {
   "cell_type": "markdown",
   "metadata": {},
   "source": [
    "- Introduction(here)\n",
    "- [02-Import and Tidy](02-Import and Tidy.ipynb)\n",
    "- [03-EDA](03-EDA.ipynb)\n",
    "- [04-Modeling](04-Modeling.ipynb)\n",
    "- [05-Presentation](05-Presentation.ipynb)"
   ]
  },
  {
   "cell_type": "markdown",
   "metadata": {},
   "source": [
    "## Abstract"
   ]
  },
  {
   "cell_type": "markdown",
   "metadata": {},
   "source": [
    "Like all major cities in the United States, Seattle undergoes a lot of crime activity. In fact, crime rate per capita has been increasing the past few decades, and the city now holds one of the <a href=\"http://www.kiro7.com/news/local/city-attorney-candidate-property-crimes-higher-in-seattle-than-any-other-us-city/627266113\">highest property crime rates in the country</a>. By identifying the highest occurring crimes in all the regions of Seattle, it could make it easier to prevent them in the future by focusing on the factors behind those frequent crimes in those areas.</p>\n",
    "<p>The Seattle Police Department released a data set of over 1 million 911-calls from 2009 onwards from all the different regions in the city. The goal of this project is to use this data set and create an algorithm to identify the most probable crimes that will occur based on a region in the city."
   ]
  },
  {
   "cell_type": "markdown",
   "metadata": {},
   "source": [
    "## The Dataset"
   ]
  },
  {
   "cell_type": "markdown",
   "metadata": {},
   "source": [
    "I am using 1 large dataset that contains 911 calls and their specifics in the Seattle area, which is located in /data/anikethb. It is stored as <code>Seattle_Police_Department_911_Incident_Response.csv</code></p>"
   ]
  },
  {
   "cell_type": "markdown",
   "metadata": {},
   "source": [
    "**Columns**"
   ]
  },
  {
   "cell_type": "markdown",
   "metadata": {},
   "source": [
    "<li><code>Event Clearance Code: Code used by Seattle Police Department based on type of crime (int)</code></li>\n",
    "<li><code>Event Clearance Description: Specific crime that the 911 call was about (str)</code></li>\n",
    "<li><code>Event Clearance SubGroup: Category of crime that the Event Clearance Description comes under (str)</code></li>\n",
    "<li><code>District/Sector: The district from where the call came from(str)</code></li>\n",
    "<li><code>Zone/Beat:  The zone from where the call came from(more specific than District/Sector)(str)</code></li>\n",
    "<li><code>Census Tract: Census Tract code for the region from where the call came from (float)</code></li>\n",
    "<li><code>Longitude: Longitude value of where the call came from (float)</code></li>\n",
    "<li><code>Latitude: Latitude value of where the call came from (float)</code></li>"
   ]
  },
  {
   "cell_type": "markdown",
   "metadata": {},
   "source": [
    "## Citations"
   ]
  },
  {
   "cell_type": "markdown",
   "metadata": {},
   "source": [
    "<li>I found the dataset on Kaggle, which was posted by Sohier Dane in 2017. (<a href=\"https://www.kaggle.com/sohier/seattle-police-department-911-incident-response/data\">https://www.kaggle.com/sohier/seattle-police-department-911-incident-response/data</a>)</p>\n",
    "</li>\n",
    "<li>To calculate the distances from the center of Seattle and use the haversine equation, I used <a href=\"https://www.movable-type.co.uk/scripts/latlong.html\">https://www.movable-type.co.uk/scripts/latlong.html</a></p>"
   ]
  },
  {
   "cell_type": "markdown",
   "metadata": {},
   "source": [
    "[**Next:** 02 - Import & Tidy](02-Import & Tidy.ipynb) >"
   ]
  },
  {
   "cell_type": "code",
   "execution_count": null,
   "metadata": {},
   "outputs": [],
   "source": []
  }
 ],
 "metadata": {
  "kernelspec": {
   "display_name": "Python 3",
   "language": "python",
   "name": "python3"
  },
  "language_info": {
   "codemirror_mode": {
    "name": "ipython",
    "version": 3
   },
   "file_extension": ".py",
   "mimetype": "text/x-python",
   "name": "python",
   "nbconvert_exporter": "python",
   "pygments_lexer": "ipython3",
   "version": "3.6.3"
  }
 },
 "nbformat": 4,
 "nbformat_minor": 2
}
